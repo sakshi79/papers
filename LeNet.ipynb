{
  "nbformat": 4,
  "nbformat_minor": 0,
  "metadata": {
    "colab": {
      "provenance": [],
      "authorship_tag": "ABX9TyOzZVOZnEmSbttBqrxiihnf",
      "include_colab_link": true
    },
    "kernelspec": {
      "name": "python3",
      "display_name": "Python 3"
    },
    "language_info": {
      "name": "python"
    }
  },
  "cells": [
    {
      "cell_type": "markdown",
      "metadata": {
        "id": "view-in-github",
        "colab_type": "text"
      },
      "source": [
        "<a href=\"https://colab.research.google.com/github/sakshi79/papers/blob/main/LeNet.ipynb\" target=\"_parent\"><img src=\"https://colab.research.google.com/assets/colab-badge.svg\" alt=\"Open In Colab\"/></a>"
      ]
    },
    {
      "cell_type": "code",
      "execution_count": 1,
      "metadata": {
        "id": "gnjAph8G6fpo"
      },
      "outputs": [],
      "source": [
        "from tensorflow.keras.preprocessing.image import ImageDataGenerator\n",
        "from tensorflow.keras.models import Sequential\n",
        "from tensorflow.keras.layers import Dense, Dropout, Activation, Flatten\n",
        "from tensorflow.keras.layers import Conv2D, MaxPooling2D, ZeroPadding2D\n",
        "from tensorflow.keras.layers import BatchNormalization\n",
        "from tensorflow.keras.regularizers import l2\n",
        "from tensorflow.keras.datasets import mnist\n",
        "from tensorflow.keras.utils import to_categorical\n",
        "import tensorflow as tf\n",
        "\n",
        "#Load dataset\n",
        "(x_train, y_train), (x_test, y_test)  = mnist.load_data()\n",
        "\n",
        "img_rows = x_train[0].shape[0]\n",
        "img_cols = x_train[1].shape[0]\n",
        "\n",
        "x_train = x_train.reshape(x_train.shape[0], img_rows, img_cols, 1)\n",
        "x_test = x_test.reshape(x_test.shape[0], img_rows, img_cols, 1)\n",
        "\n",
        "input_shape = (img_rows, img_cols, 1)\n",
        "\n",
        "x_train = x_train.astype('float32')\n",
        "x_test = x_test.astype('float32')\n",
        "\n",
        "x_train /= 255\n",
        "x_test /= 255\n",
        "\n",
        "y_train = to_categorical(y_train)\n",
        "y_test = to_categorical(y_test)\n",
        "\n",
        "num_classes = y_test.shape[1]\n",
        "num_pixels = x_train.shape[1] * x_train.shape[2]"
      ]
    },
    {
      "cell_type": "code",
      "source": [
        "# create model\n",
        "model = Sequential()\n",
        "\n",
        "#Add layers\n",
        "model.add(Conv2D(20, (5, 5),\n",
        "                 padding = \"same\",\n",
        "                 input_shape = input_shape))\n",
        "model.add(Activation(\"relu\"))\n",
        "model.add(MaxPooling2D(pool_size = (2, 2), strides = (2, 2)))\n",
        "\n",
        "model.add(Conv2D(50, (5, 5),\n",
        "                 padding = \"same\"))\n",
        "model.add(Activation(\"relu\"))\n",
        "model.add(MaxPooling2D(pool_size = (2, 2), strides = (2, 2)))\n",
        "\n",
        "model.add(Flatten())\n",
        "model.add(Dense(500))\n",
        "model.add(Activation(\"relu\"))\n",
        "\n",
        "model.add(Dense(num_classes))\n",
        "model.add(Activation(\"softmax\"))\n",
        "\n",
        "model.compile(loss = 'categorical_crossentropy',\n",
        "              optimizer = tf.keras.optimizers.Adam(),\n",
        "              metrics = ['accuracy'])\n",
        "\n",
        "print(model.summary())"
      ],
      "metadata": {
        "colab": {
          "base_uri": "https://localhost:8080/"
        },
        "id": "833KDnG6Ljg-",
        "outputId": "37c331c4-f226-4c86-9cec-83cb92f48d8d"
      },
      "execution_count": 2,
      "outputs": [
        {
          "output_type": "stream",
          "name": "stdout",
          "text": [
            "Model: \"sequential\"\n",
            "_________________________________________________________________\n",
            " Layer (type)                Output Shape              Param #   \n",
            "=================================================================\n",
            " conv2d (Conv2D)             (None, 28, 28, 20)        520       \n",
            "                                                                 \n",
            " activation (Activation)     (None, 28, 28, 20)        0         \n",
            "                                                                 \n",
            " max_pooling2d (MaxPooling2  (None, 14, 14, 20)        0         \n",
            " D)                                                              \n",
            "                                                                 \n",
            " conv2d_1 (Conv2D)           (None, 14, 14, 50)        25050     \n",
            "                                                                 \n",
            " activation_1 (Activation)   (None, 14, 14, 50)        0         \n",
            "                                                                 \n",
            " max_pooling2d_1 (MaxPoolin  (None, 7, 7, 50)          0         \n",
            " g2D)                                                            \n",
            "                                                                 \n",
            " flatten (Flatten)           (None, 2450)              0         \n",
            "                                                                 \n",
            " dense (Dense)               (None, 500)               1225500   \n",
            "                                                                 \n",
            " activation_2 (Activation)   (None, 500)               0         \n",
            "                                                                 \n",
            " dense_1 (Dense)             (None, 10)                5010      \n",
            "                                                                 \n",
            " activation_3 (Activation)   (None, 10)                0         \n",
            "                                                                 \n",
            "=================================================================\n",
            "Total params: 1256080 (4.79 MB)\n",
            "Trainable params: 1256080 (4.79 MB)\n",
            "Non-trainable params: 0 (0.00 Byte)\n",
            "_________________________________________________________________\n",
            "None\n"
          ]
        }
      ]
    },
    {
      "cell_type": "code",
      "source": [
        "batch_size = 128\n",
        "epochs = 20\n",
        "\n",
        "model.fit(x_train, y_train,\n",
        "          batch_size=batch_size,\n",
        "          epochs=epochs,\n",
        "          validation_data=(x_test, y_test),\n",
        "          shuffle=True)\n",
        "\n",
        "model.save(\"mnist_LeNet.h5\")\n",
        "\n",
        "# Evaluate performance\n",
        "score = model.evaluate(x_test, y_test, verbose=1)\n",
        "print('Test loss:', score[0])\n",
        "print('Test accuracy:', score[1])"
      ],
      "metadata": {
        "colab": {
          "base_uri": "https://localhost:8080/"
        },
        "id": "Rzgx7nB5LpUV",
        "outputId": "4beceda0-08a0-432b-d0b6-d4ca03eaea7f"
      },
      "execution_count": 3,
      "outputs": [
        {
          "output_type": "stream",
          "name": "stdout",
          "text": [
            "Epoch 1/20\n",
            "469/469 [==============================] - 116s 244ms/step - loss: 0.1601 - accuracy: 0.9523 - val_loss: 0.0459 - val_accuracy: 0.9850\n",
            "Epoch 2/20\n",
            "469/469 [==============================] - 112s 240ms/step - loss: 0.0447 - accuracy: 0.9858 - val_loss: 0.0288 - val_accuracy: 0.9905\n",
            "Epoch 3/20\n",
            "469/469 [==============================] - 110s 235ms/step - loss: 0.0281 - accuracy: 0.9916 - val_loss: 0.0285 - val_accuracy: 0.9905\n",
            "Epoch 4/20\n",
            "469/469 [==============================] - 115s 245ms/step - loss: 0.0220 - accuracy: 0.9930 - val_loss: 0.0347 - val_accuracy: 0.9881\n",
            "Epoch 5/20\n",
            "469/469 [==============================] - 116s 247ms/step - loss: 0.0166 - accuracy: 0.9948 - val_loss: 0.0311 - val_accuracy: 0.9910\n",
            "Epoch 6/20\n",
            "469/469 [==============================] - 113s 240ms/step - loss: 0.0129 - accuracy: 0.9958 - val_loss: 0.0379 - val_accuracy: 0.9892\n",
            "Epoch 7/20\n",
            "469/469 [==============================] - 107s 228ms/step - loss: 0.0111 - accuracy: 0.9963 - val_loss: 0.0278 - val_accuracy: 0.9911\n",
            "Epoch 8/20\n",
            "469/469 [==============================] - 106s 225ms/step - loss: 0.0087 - accuracy: 0.9973 - val_loss: 0.0365 - val_accuracy: 0.9894\n",
            "Epoch 9/20\n",
            "469/469 [==============================] - 109s 232ms/step - loss: 0.0083 - accuracy: 0.9972 - val_loss: 0.0349 - val_accuracy: 0.9907\n",
            "Epoch 10/20\n",
            "469/469 [==============================] - 107s 228ms/step - loss: 0.0049 - accuracy: 0.9984 - val_loss: 0.0291 - val_accuracy: 0.9923\n",
            "Epoch 11/20\n",
            "469/469 [==============================] - 106s 227ms/step - loss: 0.0079 - accuracy: 0.9973 - val_loss: 0.0320 - val_accuracy: 0.9908\n",
            "Epoch 12/20\n",
            "469/469 [==============================] - 107s 227ms/step - loss: 0.0040 - accuracy: 0.9985 - val_loss: 0.0373 - val_accuracy: 0.9917\n",
            "Epoch 13/20\n",
            "469/469 [==============================] - 107s 227ms/step - loss: 0.0067 - accuracy: 0.9978 - val_loss: 0.0280 - val_accuracy: 0.9919\n",
            "Epoch 14/20\n",
            "469/469 [==============================] - 107s 228ms/step - loss: 0.0044 - accuracy: 0.9986 - val_loss: 0.0341 - val_accuracy: 0.9925\n",
            "Epoch 15/20\n",
            "469/469 [==============================] - 106s 225ms/step - loss: 0.0055 - accuracy: 0.9980 - val_loss: 0.0340 - val_accuracy: 0.9919\n",
            "Epoch 16/20\n",
            "469/469 [==============================] - 111s 236ms/step - loss: 0.0056 - accuracy: 0.9982 - val_loss: 0.0280 - val_accuracy: 0.9929\n",
            "Epoch 17/20\n",
            "469/469 [==============================] - 106s 226ms/step - loss: 0.0020 - accuracy: 0.9994 - val_loss: 0.0295 - val_accuracy: 0.9934\n",
            "Epoch 18/20\n",
            "469/469 [==============================] - 110s 235ms/step - loss: 0.0022 - accuracy: 0.9992 - val_loss: 0.0257 - val_accuracy: 0.9934\n",
            "Epoch 19/20\n",
            "469/469 [==============================] - 106s 227ms/step - loss: 0.0015 - accuracy: 0.9995 - val_loss: 0.0345 - val_accuracy: 0.9928\n",
            "Epoch 20/20\n",
            "469/469 [==============================] - 107s 227ms/step - loss: 0.0042 - accuracy: 0.9987 - val_loss: 0.0314 - val_accuracy: 0.9929\n",
            "  4/313 [..............................] - ETA: 5s - loss: 0.0077 - accuracy: 0.9922     "
          ]
        },
        {
          "output_type": "stream",
          "name": "stderr",
          "text": [
            "/usr/local/lib/python3.10/dist-packages/keras/src/engine/training.py:3079: UserWarning: You are saving your model as an HDF5 file via `model.save()`. This file format is considered legacy. We recommend using instead the native Keras format, e.g. `model.save('my_model.keras')`.\n",
            "  saving_api.save_model(\n"
          ]
        },
        {
          "output_type": "stream",
          "name": "stdout",
          "text": [
            "313/313 [==============================] - 7s 22ms/step - loss: 0.0314 - accuracy: 0.9929\n",
            "Test loss: 0.03144142031669617\n",
            "Test accuracy: 0.992900013923645\n"
          ]
        }
      ]
    },
    {
      "cell_type": "code",
      "source": [],
      "metadata": {
        "id": "9LnboKlpLsQ3"
      },
      "execution_count": 3,
      "outputs": []
    }
  ]
}